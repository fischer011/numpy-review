{
  "nbformat": 4,
  "nbformat_minor": 0,
  "metadata": {
    "colab": {
      "provenance": []
    },
    "kernelspec": {
      "name": "python3",
      "display_name": "Python 3"
    },
    "language_info": {
      "name": "python"
    }
  },
  "cells": [
    {
      "cell_type": "code",
      "source": [
        "import numpy as np\n",
        "v = np.array([1,1])\n",
        "v\n",
        "v.shape"
      ],
      "metadata": {
        "colab": {
          "base_uri": "https://localhost:8080/"
        },
        "id": "tIxhWRBxLY8l",
        "outputId": "23581405-03f9-4f8a-f607-65a18b590a99"
      },
      "execution_count": null,
      "outputs": [
        {
          "output_type": "execute_result",
          "data": {
            "text/plain": [
              "(2,)"
            ]
          },
          "metadata": {},
          "execution_count": 1
        }
      ]
    },
    {
      "cell_type": "code",
      "source": [
        "m = np.array([[3,2], [3,2]])\n",
        "m\n",
        "m[0,[0]]"
      ],
      "metadata": {
        "colab": {
          "base_uri": "https://localhost:8080/"
        },
        "id": "LrToSCwNLY5C",
        "outputId": "eec9ea8f-27ad-4931-f3f8-c94926cd27ce"
      },
      "execution_count": null,
      "outputs": [
        {
          "output_type": "execute_result",
          "data": {
            "text/plain": [
              "array([3])"
            ]
          },
          "metadata": {},
          "execution_count": 2
        }
      ]
    },
    {
      "cell_type": "code",
      "source": [
        "import matplotlib.pyplot as plt\n",
        "\n",
        "plt.xlim(0, 3)\n",
        "plt.ylim(0, 3)\n",
        "\n",
        "d0=m[0]\n",
        "d1=m[1]\n",
        "dx=d0[0]\n",
        "dy=d0[1]\n",
        "\n",
        "plt.arrow(0, 0, dx, dy, head_width=0.05, head_length=0.1)"
      ],
      "metadata": {
        "colab": {
          "base_uri": "https://localhost:8080/",
          "height": 453
        },
        "id": "qbic_3ni2VUQ",
        "outputId": "76060514-7fb7-4442-e4dc-9ea4ec9803ae"
      },
      "execution_count": null,
      "outputs": [
        {
          "output_type": "execute_result",
          "data": {
            "text/plain": [
              "<matplotlib.patches.FancyArrow at 0x7a1656450ed0>"
            ]
          },
          "metadata": {},
          "execution_count": 3
        },
        {
          "output_type": "display_data",
          "data": {
            "text/plain": [
              "<Figure size 640x480 with 1 Axes>"
            ],
            "image/png": "[encoded data removed]"
          },
          "metadata": {}
        }
      ]
    },
    {
      "cell_type": "code",
      "source": [
        "plt.xlim(0, 3)\n",
        "plt.ylim(0, 3)\n",
        "\n",
        "plt.arrow(0, 0, v[0], v[1], head_width=0.05, head_length=0.1)"
      ],
      "metadata": {
        "colab": {
          "base_uri": "https://localhost:8080/",
          "height": 453
        },
        "id": "UEt4Cb7ZR58y",
        "outputId": "1ffea504-301f-4114-a82d-10264e94b3f3"
      },
      "execution_count": null,
      "outputs": [
        {
          "output_type": "execute_result",
          "data": {
            "text/plain": [
              "<matplotlib.patches.FancyArrow at 0x7a16542254d0>"
            ]
          },
          "metadata": {},
          "execution_count": 4
        },
        {
          "output_type": "display_data",
          "data": {
            "text/plain": [
              "<Figure size 640x480 with 1 Axes>"
            ],
            "image/png": "[encoded data removed]"
          },
          "metadata": {}
        }
      ]
    },
    {
      "cell_type": "markdown",
      "source": [
        "L2 norm formula is Euclidean distance (hypotenuse of triangle formed by x length and y length of vector)"
      ],
      "metadata": {
        "id": "ubrSn_tgOuxI"
      }
    },
    {
      "cell_type": "markdown",
      "source": [
        "$$||x||_{2} = \\sqrt{x_{1}^{2} + x_{2}^{2} +\\cdots + x_{n}^{2}}$$"
      ],
      "metadata": {
        "id": "jkPIZ2sWOlIf"
      }
    },
    {
      "cell_type": "markdown",
      "source": [
        "For v: 1^2 + 1^2 = 2;\n",
        "sqrt(2) ~ 1.41"
      ],
      "metadata": {
        "id": "lR1ktMVKPmY7"
      }
    },
    {
      "cell_type": "code",
      "source": [
        "np.sum(v ** 2)"
      ],
      "metadata": {
        "colab": {
          "base_uri": "https://localhost:8080/"
        },
        "id": "lDS7X0tpQcRA",
        "outputId": "8910eb27-ad07-4a1e-d1a8-682390969d77"
      },
      "execution_count": null,
      "outputs": [
        {
          "output_type": "execute_result",
          "data": {
            "text/plain": [
              "np.int64(2)"
            ]
          },
          "metadata": {},
          "execution_count": 5
        }
      ]
    },
    {
      "cell_type": "code",
      "source": [
        "np.sqrt(np.sum(v ** 2))"
      ],
      "metadata": {
        "colab": {
          "base_uri": "https://localhost:8080/"
        },
        "id": "0rSzHfdvOr6_",
        "outputId": "8cad7b88-e3a6-48bf-bf93-a7755a7b8abb"
      },
      "execution_count": null,
      "outputs": [
        {
          "output_type": "execute_result",
          "data": {
            "text/plain": [
              "np.float64(1.4142135623730951)"
            ]
          },
          "metadata": {},
          "execution_count": 6
        }
      ]
    },
    {
      "cell_type": "code",
      "source": [
        "v3 = np.array([0, 1, 2])"
      ],
      "metadata": {
        "id": "962YPOG_LY1n"
      },
      "execution_count": null,
      "outputs": []
    },
    {
      "cell_type": "code",
      "execution_count": null,
      "metadata": {
        "colab": {
          "base_uri": "https://localhost:8080/",
          "height": 841
        },
        "id": "_eKgUgfyLXxI",
        "outputId": "2f8df79d-02ee-43b6-efb5-97c74635d191"
      },
      "outputs": [
        {
          "output_type": "execute_result",
          "data": {
            "text/plain": [
              "<mpl_toolkits.mplot3d.art3d.Line3DCollection at 0x7a1654300590>"
            ]
          },
          "metadata": {},
          "execution_count": 8
        },
        {
          "output_type": "display_data",
          "data": {
            "text/plain": [
              "<Figure size 640x480 with 1 Axes>"
            ],
            "image/png": "[encoded data removed]"
          },
          "metadata": {}
        },
        {
          "output_type": "display_data",
          "data": {
            "text/plain": [
              "<Figure size 640x480 with 1 Axes>"
            ],
            "image/png": "[encoded data removed]"
          },
          "metadata": {}
        }
      ],
      "source": [
        "fig1 = plt.figure()\n",
        "ax = fig1.add_subplot(111, projection='3d')\n",
        "\n",
        "ax.set_xlim([0, 3])\n",
        "ax.set_ylim([0, 3])\n",
        "ax.set_zlim([0, 3])\n",
        "\n",
        "ax.quiver(0, 0, 0, v3[0], v3[1], v3[2], length=1)\n",
        "\n",
        "fig2 = plt.figure()\n",
        "ax = fig2.add_subplot(111, projection='3d')\n",
        "\n",
        "ax.set_xlim([0, 3])\n",
        "ax.set_ylim([0, 3])\n",
        "ax.set_zlim([0, 3])\n",
        "\n",
        "ax.quiver(0, 0, 0, v3[0], v3[1], v3[2], length=1)"
      ]
    },
    {
      "cell_type": "code",
      "source": [
        "v5 = np.array([0, 1, 2, 3, 4])"
      ],
      "metadata": {
        "id": "ePBYcsYzNH4c"
      },
      "execution_count": null,
      "outputs": []
    },
    {
      "cell_type": "markdown",
      "source": [
        "Scaling vectors"
      ],
      "metadata": {
        "id": "ErYzmMNoSFjm"
      }
    },
    {
      "cell_type": "code",
      "source": [
        "v_half = np.array([2,1]) * 0.5\n",
        "v_half"
      ],
      "metadata": {
        "colab": {
          "base_uri": "https://localhost:8080/"
        },
        "id": "K_OFV3t0NHvh",
        "outputId": "527f29e2-6e6b-4fcb-8015-050014b9b3af"
      },
      "execution_count": null,
      "outputs": [
        {
          "output_type": "execute_result",
          "data": {
            "text/plain": [
              "array([1. , 0.5])"
            ]
          },
          "metadata": {},
          "execution_count": 10
        }
      ]
    },
    {
      "cell_type": "markdown",
      "source": [
        "Adding vectors"
      ],
      "metadata": {
        "id": "Oez0PD2-TiRd"
      }
    },
    {
      "cell_type": "code",
      "source": [
        "v_add  = np.array([1,1]) + v_half\n",
        "v_add"
      ],
      "metadata": {
        "colab": {
          "base_uri": "https://localhost:8080/"
        },
        "id": "R9mzrwulNHk4",
        "outputId": "7fcb96d1-02c8-442b-95e5-76ec2faabaf4"
      },
      "execution_count": null,
      "outputs": [
        {
          "output_type": "execute_result",
          "data": {
            "text/plain": [
              "array([2. , 1.5])"
            ]
          },
          "metadata": {},
          "execution_count": 11
        }
      ]
    },
    {
      "cell_type": "markdown",
      "source": [
        "Basis vectors\n",
        "\n",
        "Canonical basis vectors:\n",
        "\n",
        "0,1\n",
        "\n",
        "1,0"
      ],
      "metadata": {
        "id": "Cdj1I_XuWV8v"
      }
    },
    {
      "cell_type": "code",
      "source": [
        "v1 = np.array([0,1])\n",
        "v2 = np.array([1,0])"
      ],
      "metadata": {
        "id": "p3Ii-_hMNHZV"
      },
      "execution_count": null,
      "outputs": []
    },
    {
      "cell_type": "code",
      "source": [
        "# Can use basis vectors to reach any point in 2D space\n",
        "# 0.3, 1\n",
        "\n",
        "v1 + v2 * 0.3\n",
        "\n"
      ],
      "metadata": {
        "colab": {
          "base_uri": "https://localhost:8080/"
        },
        "id": "0z35Tp6uNHM4",
        "outputId": "55acaf87-2586-46e0-8958-f44075de1959"
      },
      "execution_count": null,
      "outputs": [
        {
          "output_type": "execute_result",
          "data": {
            "text/plain": [
              "array([0.3, 1. ])"
            ]
          },
          "metadata": {},
          "execution_count": 13
        }
      ]
    },
    {
      "cell_type": "code",
      "source": [
        "# Basis vectors are orthogonal to each other\n",
        "# So dot product equals zero\n",
        "\n",
        "np.dot(v1,v2)"
      ],
      "metadata": {
        "colab": {
          "base_uri": "https://localhost:8080/"
        },
        "id": "hPq-ulDxNG9n",
        "outputId": "f020e031-b701-4801-c437-abd83861a52a"
      },
      "execution_count": null,
      "outputs": [
        {
          "output_type": "execute_result",
          "data": {
            "text/plain": [
              "np.int64(0)"
            ]
          },
          "metadata": {},
          "execution_count": 14
        }
      ]
    },
    {
      "cell_type": "markdown",
      "source": [
        "You can change basis vectors\n",
        "\n",
        "Important usage in ML and DL"
      ],
      "metadata": {
        "id": "avsyw8Cia2q4"
      }
    },
    {
      "cell_type": "code",
      "source": [
        "M = np.array([[0,1,2], [1,0,2], [3,1,0]])\n",
        "M"
      ],
      "metadata": {
        "colab": {
          "base_uri": "https://localhost:8080/"
        },
        "id": "Apu7gr_CbBrT",
        "outputId": "e8877dfc-eee0-4d47-e8f4-277809731717"
      },
      "execution_count": null,
      "outputs": [
        {
          "output_type": "execute_result",
          "data": {
            "text/plain": [
              "array([[0, 1, 2],\n",
              "       [1, 0, 2],\n",
              "       [3, 1, 0]])"
            ]
          },
          "metadata": {},
          "execution_count": 15
        }
      ]
    },
    {
      "cell_type": "markdown",
      "source": [
        "Matrix variable is uppercase by convention in programming and math"
      ],
      "metadata": {
        "id": "M07AvePHrGwE"
      }
    },
    {
      "cell_type": "code",
      "source": [
        "M.shape"
      ],
      "metadata": {
        "colab": {
          "base_uri": "https://localhost:8080/"
        },
        "id": "H93Xva06bCez",
        "outputId": "a0fb4d5e-825b-4c61-9026-da7395079d3e"
      },
      "execution_count": null,
      "outputs": [
        {
          "output_type": "execute_result",
          "data": {
            "text/plain": [
              "(3, 3)"
            ]
          },
          "metadata": {},
          "execution_count": 16
        }
      ]
    },
    {
      "cell_type": "markdown",
      "source": [
        "Linear regression formula\n",
        "\n",
        "$\\hat{y} = wx + b$"
      ],
      "metadata": {
        "id": "gMTyyLgBtJy-"
      }
    },
    {
      "cell_type": "code",
      "source": [
        "import pandas as pd\n",
        "\n",
        "# Read in the data\n",
        "data = pd.read_csv(\"/content/clean_weather.csv\", index_col=0)\n",
        "# Fill missing data with past data\n",
        "# Fill NA/NaN values by propagating the last valid observation to next valid.\n",
        "data = data.ffill()\n",
        "\n",
        "data.head(5)\n"
      ],
      "metadata": {
        "colab": {
          "base_uri": "https://localhost:8080/",
          "height": 206
        },
        "id": "P0Qdj5cNbCa1",
        "outputId": "1c25bec3-35d7-4886-ce3d-aed842822004"
      },
      "execution_count": null,
      "outputs": [
        {
          "output_type": "execute_result",
          "data": {
            "text/plain": [
              "            tmax  tmin  rain  tmax_tomorrow\n",
              "1970-01-01  60.0  35.0   0.0           52.0\n",
              "1970-01-02  52.0  39.0   0.0           52.0\n",
              "1970-01-03  52.0  35.0   0.0           53.0\n",
              "1970-01-04  53.0  36.0   0.0           52.0\n",
              "1970-01-05  52.0  35.0   0.0           50.0"
            ],
            "text/html": [
              "\n",
              "  <div id=\"df-d47314c7-1428-4d9b-8763-797c02239c52\" class=\"colab-df-container\">\n",
              "    <div>\n",
              "<style scoped>\n",
              "    .dataframe tbody tr th:only-of-type {\n",
              "        vertical-align: middle;\n",
              "    }\n",
              "\n",
              "    .dataframe tbody tr th {\n",
              "        vertical-align: top;\n",
              "    }\n",
              "\n",
              "    .dataframe thead th {\n",
              "        text-align: right;\n",
              "    }\n",
              "</style>\n",
              "<table border=\"1\" class=\"dataframe\">\n",
              "  <thead>\n",
              "    <tr style=\"text-align: right;\">\n",
              "      <th></th>\n",
              "      <th>tmax</th>\n",
              "      <th>tmin</th>\n",
              "      <th>rain</th>\n",
              "      <th>tmax_tomorrow</th>\n",
              "    </tr>\n",
              "  </thead>\n",
              "  <tbody>\n",
              "    <tr>\n",
              "      <th>1970-01-01</th>\n",
              "      <td>60.0</td>\n",
              "      <td>35.0</td>\n",
              "      <td>0.0</td>\n",
              "      <td>52.0</td>\n",
              "    </tr>\n",
              "    <tr>\n",
              "      <th>1970-01-02</th>\n",
              "      <td>52.0</td>\n",
              "      <td>39.0</td>\n",
              "      <td>0.0</td>\n",
              "      <td>52.0</td>\n",
              "    </tr>\n",
              "    <tr>\n",
              "      <th>1970-01-03</th>\n",
              "      <td>52.0</td>\n",
              "      <td>35.0</td>\n",
              "      <td>0.0</td>\n",
              "      <td>53.0</td>\n",
              "    </tr>\n",
              "    <tr>\n",
              "      <th>1970-01-04</th>\n",
              "      <td>53.0</td>\n",
              "      <td>36.0</td>\n",
              "      <td>0.0</td>\n",
              "      <td>52.0</td>\n",
              "    </tr>\n",
              "    <tr>\n",
              "      <th>1970-01-05</th>\n",
              "      <td>52.0</td>\n",
              "      <td>35.0</td>\n",
              "      <td>0.0</td>\n",
              "      <td>50.0</td>\n",
              "    </tr>\n",
              "  </tbody>\n",
              "</table>\n",
              "</div>\n",
              "    <div class=\"colab-df-buttons\">\n",
              "\n",
              "  <div class=\"colab-df-container\">\n",
              "    <button class=\"colab-df-convert\" onclick=\"convertToInteractive('df-d47314c7-1428-4d9b-8763-797c02239c52')\"\n",
              "            title=\"Convert this dataframe to an interactive table.\"\n",
              "            style=\"display:none;\">\n",
              "\n",
              "  <svg xmlns=\"http://www.w3.org/2000/svg\" height=\"24px\" viewBox=\"0 -960 960 960\">\n",
              "    <path d=\"M120-120v-720h720v720H120Zm60-500h600v-160H180v160Zm220 220h160v-160H400v160Zm0 220h160v-160H400v160ZM180-400h160v-160H180v160Zm440 0h160v-160H620v160ZM180-180h160v-160H180v160Zm440 0h160v-160H620v160Z\"/>\n",
              "  </svg>\n",
              "    </button>\n",
              "\n",
              "  <style>\n",
              "    .colab-df-container {\n",
              "      display:flex;\n",
              "      gap: 12px;\n",
              "    }\n",
              "\n",
              "    .colab-df-convert {\n",
              "      background-color: #E8F0FE;\n",
              "      border: none;\n",
              "      border-radius: 50%;\n",
              "      cursor: pointer;\n",
              "      display: none;\n",
              "      fill: #1967D2;\n",
              "      height: 32px;\n",
              "      padding: 0 0 0 0;\n",
              "      width: 32px;\n",
              "    }\n",
              "\n",
              "    .colab-df-convert:hover {\n",
              "      background-color: #E2EBFA;\n",
              "      box-shadow: 0px 1px 2px rgba(60, 64, 67, 0.3), 0px 1px 3px 1px rgba(60, 64, 67, 0.15);\n",
              "      fill: #174EA6;\n",
              "    }\n",
              "\n",
              "    .colab-df-buttons div {\n",
              "      margin-bottom: 4px;\n",
              "    }\n",
              "\n",
              "    [theme=dark] .colab-df-convert {\n",
              "      background-color: #3B4455;\n",
              "      fill: #D2E3FC;\n",
              "    }\n",
              "\n",
              "    [theme=dark] .colab-df-convert:hover {\n",
              "      background-color: #434B5C;\n",
              "      box-shadow: 0px 1px 3px 1px rgba(0, 0, 0, 0.15);\n",
              "      filter: drop-shadow(0px 1px 2px rgba(0, 0, 0, 0.3));\n",
              "      fill: #FFFFFF;\n",
              "    }\n",
              "  </style>\n",
              "\n",
              "    <script>\n",
              "      const buttonEl =\n",
              "        document.querySelector('#df-d47314c7-1428-4d9b-8763-797c02239c52 button.colab-df-convert');\n",
              "      buttonEl.style.display =\n",
              "        google.colab.kernel.accessAllowed ? 'block' : 'none';\n",
              "\n",
              "      async function convertToInteractive(key) {\n",
              "        const element = document.querySelector('#df-d47314c7-1428-4d9b-8763-797c02239c52');\n",
              "        const dataTable =\n",
              "          await google.colab.kernel.invokeFunction('convertToInteractive',\n",
              "                                                    [key], {});\n",
              "        if (!dataTable) return;\n",
              "\n",
              "        const docLinkHtml = 'Like what you see? Visit the ' +\n",
              "          '<a target=\"_blank\" href=https://colab.research.google.com/notebooks/data_table.ipynb>data table notebook</a>'\n",
              "          + ' to learn more about interactive tables.';\n",
              "        element.innerHTML = '';\n",
              "        dataTable['output_type'] = 'display_data';\n",
              "        await google.colab.output.renderOutput(dataTable, element);\n",
              "        const docLink = document.createElement('div');\n",
              "        docLink.innerHTML = docLinkHtml;\n",
              "        element.appendChild(docLink);\n",
              "      }\n",
              "    </script>\n",
              "  </div>\n",
              "\n",
              "\n",
              "    <div id=\"df-ac789693-303c-43cb-aaa1-2390da194002\">\n",
              "      <button class=\"colab-df-quickchart\" onclick=\"quickchart('df-ac789693-303c-43cb-aaa1-2390da194002')\"\n",
              "                title=\"Suggest charts\"\n",
              "                style=\"display:none;\">\n",
              "\n",
              "<svg xmlns=\"http://www.w3.org/2000/svg\" height=\"24px\"viewBox=\"0 0 24 24\"\n",
              "     width=\"24px\">\n",
              "    <g>\n",
              "        <path d=\"M19 3H5c-1.1 0-2 .9-2 2v14c0 1.1.9 2 2 2h14c1.1 0 2-.9 2-2V5c0-1.1-.9-2-2-2zM9 17H7v-7h2v7zm4 0h-2V7h2v10zm4 0h-2v-4h2v4z\"/>\n",
              "    </g>\n",
              "</svg>\n",
              "      </button>\n",
              "\n",
              "<style>\n",
              "  .colab-df-quickchart {\n",
              "      --bg-color: #E8F0FE;\n",
              "      --fill-color: #1967D2;\n",
              "      --hover-bg-color: #E2EBFA;\n",
              "      --hover-fill-color: #174EA6;\n",
              "      --disabled-fill-color: #AAA;\n",
              "      --disabled-bg-color: #DDD;\n",
              "  }\n",
              "\n",
              "  [theme=dark] .colab-df-quickchart {\n",
              "      --bg-color: #3B4455;\n",
              "      --fill-color: #D2E3FC;\n",
              "      --hover-bg-color: #434B5C;\n",
              "      --hover-fill-color: #FFFFFF;\n",
              "      --disabled-bg-color: #3B4455;\n",
              "      --disabled-fill-color: #666;\n",
              "  }\n",
              "\n",
              "  .colab-df-quickchart {\n",
              "    background-color: var(--bg-color);\n",
              "    border: none;\n",
              "    border-radius: 50%;\n",
              "    cursor: pointer;\n",
              "    display: none;\n",
              "    fill: var(--fill-color);\n",
              "    height: 32px;\n",
              "    padding: 0;\n",
              "    width: 32px;\n",
              "  }\n",
              "\n",
              "  .colab-df-quickchart:hover {\n",
              "    background-color: var(--hover-bg-color);\n",
              "    box-shadow: 0 1px 2px rgba(60, 64, 67, 0.3), 0 1px 3px 1px rgba(60, 64, 67, 0.15);\n",
              "    fill: var(--button-hover-fill-color);\n",
              "  }\n",
              "\n",
              "  .colab-df-quickchart-complete:disabled,\n",
              "  .colab-df-quickchart-complete:disabled:hover {\n",
              "    background-color: var(--disabled-bg-color);\n",
              "    fill: var(--disabled-fill-color);\n",
              "    box-shadow: none;\n",
              "  }\n",
              "\n",
              "  .colab-df-spinner {\n",
              "    border: 2px solid var(--fill-color);\n",
              "    border-color: transparent;\n",
              "    border-bottom-color: var(--fill-color);\n",
              "    animation:\n",
              "      spin 1s steps(1) infinite;\n",
              "  }\n",
              "\n",
              "  @keyframes spin {\n",
              "    0% {\n",
              "      border-color: transparent;\n",
              "      border-bottom-color: var(--fill-color);\n",
              "      border-left-color: var(--fill-color);\n",
              "    }\n",
              "    20% {\n",
              "      border-color: transparent;\n",
              "      border-left-color: var(--fill-color);\n",
              "      border-top-color: var(--fill-color);\n",
              "    }\n",
              "    30% {\n",
              "      border-color: transparent;\n",
              "      border-left-color: var(--fill-color);\n",
              "      border-top-color: var(--fill-color);\n",
              "      border-right-color: var(--fill-color);\n",
              "    }\n",
              "    40% {\n",
              "      border-color: transparent;\n",
              "      border-right-color: var(--fill-color);\n",
              "      border-top-color: var(--fill-color);\n",
              "    }\n",
              "    60% {\n",
              "      border-color: transparent;\n",
              "      border-right-color: var(--fill-color);\n",
              "    }\n",
              "    80% {\n",
              "      border-color: transparent;\n",
              "      border-right-color: var(--fill-color);\n",
              "      border-bottom-color: var(--fill-color);\n",
              "    }\n",
              "    90% {\n",
              "      border-color: transparent;\n",
              "      border-bottom-color: var(--fill-color);\n",
              "    }\n",
              "  }\n",
              "</style>\n",
              "\n",
              "      <script>\n",
              "        async function quickchart(key) {\n",
              "          const quickchartButtonEl =\n",
              "            document.querySelector('#' + key + ' button');\n",
              "          quickchartButtonEl.disabled = true;  // To prevent multiple clicks.\n",
              "          quickchartButtonEl.classList.add('colab-df-spinner');\n",
              "          try {\n",
              "            const charts = await google.colab.kernel.invokeFunction(\n",
              "                'suggestCharts', [key], {});\n",
              "          } catch (error) {\n",
              "            console.error('Error during call to suggestCharts:', error);\n",
              "          }\n",
              "          quickchartButtonEl.classList.remove('colab-df-spinner');\n",
              "          quickchartButtonEl.classList.add('colab-df-quickchart-complete');\n",
              "        }\n",
              "        (() => {\n",
              "          let quickchartButtonEl =\n",
              "            document.querySelector('#df-ac789693-303c-43cb-aaa1-2390da194002 button');\n",
              "          quickchartButtonEl.style.display =\n",
              "            google.colab.kernel.accessAllowed ? 'block' : 'none';\n",
              "        })();\n",
              "      </script>\n",
              "    </div>\n",
              "\n",
              "    </div>\n",
              "  </div>\n"
            ],
            "application/vnd.google.colaboratory.intrinsic+json": {
              "type": "dataframe",
              "variable_name": "data",
              "summary": "{\n  \"name\": \"data\",\n  \"rows\": 13509,\n  \"fields\": [\n    {\n      \"column\": \"tmax\",\n      \"properties\": {\n        \"dtype\": \"number\",\n        \"std\": 8.328976736053626,\n        \"min\": 38.0,\n        \"max\": 122.0,\n        \"num_unique_values\": 66,\n        \"samples\": [\n          43.0,\n          122.0,\n          60.0\n        ],\n        \"semantic_type\": \"\",\n        \"description\": \"\"\n      }\n    },\n    {\n      \"column\": \"tmin\",\n      \"properties\": {\n        \"dtype\": \"number\",\n        \"std\": 6.792530879740785,\n        \"min\": 1.0,\n        \"max\": 69.0,\n        \"num_unique_values\": 48,\n        \"samples\": [\n          37.0,\n          68.0,\n          40.0\n        ],\n        \"semantic_type\": \"\",\n        \"description\": \"\"\n      }\n    },\n    {\n      \"column\": \"rain\",\n      \"properties\": {\n        \"dtype\": \"number\",\n        \"std\": 0.1805763898947246,\n        \"min\": 0.0,\n        \"max\": 3.58,\n        \"num_unique_values\": 161,\n        \"samples\": [\n          1.29,\n          0.61,\n          1.52\n        ],\n        \"semantic_type\": \"\",\n        \"description\": \"\"\n      }\n    },\n    {\n      \"column\": \"tmax_tomorrow\",\n      \"properties\": {\n        \"dtype\": \"number\",\n        \"std\": 8.328832488077406,\n        \"min\": 38.0,\n        \"max\": 122.0,\n        \"num_unique_values\": 66,\n        \"samples\": [\n          43.0,\n          122.0,\n          52.0\n        ],\n        \"semantic_type\": \"\",\n        \"description\": \"\"\n      }\n    }\n  ]\n}"
            }
          },
          "metadata": {},
          "execution_count": 17
        }
      ]
    },
    {
      "cell_type": "markdown",
      "source": [
        "$\\hat{y} = w_1 x_1 + w_2 x_2 + w_3 x_3 + b$"
      ],
      "metadata": {
        "id": "Un60mKybvQRx"
      }
    },
    {
      "cell_type": "markdown",
      "source": [
        "\n",
        "\n",
        "---\n",
        "\n",
        "\n",
        "Matrix multiplication"
      ],
      "metadata": {
        "id": "Jmn1kZ-ExN51"
      }
    },
    {
      "cell_type": "code",
      "source": [
        "X = data[['tmax', 'tmin', 'rain']].iloc[:3].to_numpy()\n",
        "X"
      ],
      "metadata": {
        "colab": {
          "base_uri": "https://localhost:8080/"
        },
        "id": "D64VDq38bCUT",
        "outputId": "d0b33cd0-8ce4-4469-9845-84234f3ce735"
      },
      "execution_count": null,
      "outputs": [
        {
          "output_type": "execute_result",
          "data": {
            "text/plain": [
              "array([[60., 35.,  0.],\n",
              "       [52., 39.,  0.],\n",
              "       [52., 35.,  0.]])"
            ]
          },
          "metadata": {},
          "execution_count": 18
        }
      ]
    },
    {
      "cell_type": "code",
      "source": [
        "X.shape"
      ],
      "metadata": {
        "colab": {
          "base_uri": "https://localhost:8080/"
        },
        "id": "bhteR4r5bCKc",
        "outputId": "dcfa3f06-9800-4b54-840b-a3d78e0cf4e7"
      },
      "execution_count": null,
      "outputs": [
        {
          "output_type": "execute_result",
          "data": {
            "text/plain": [
              "(3, 3)"
            ]
          },
          "metadata": {},
          "execution_count": 19
        }
      ]
    },
    {
      "cell_type": "code",
      "source": [
        "X_T = X.T\n",
        "X_T"
      ],
      "metadata": {
        "colab": {
          "base_uri": "https://localhost:8080/"
        },
        "id": "tWSBEUeBEKJC",
        "outputId": "be4e6f23-ba06-4926-9765-247357c5297f"
      },
      "execution_count": null,
      "outputs": [
        {
          "output_type": "execute_result",
          "data": {
            "text/plain": [
              "array([[60., 52., 52.],\n",
              "       [35., 39., 35.],\n",
              "       [ 0.,  0.,  0.]])"
            ]
          },
          "metadata": {},
          "execution_count": 20
        }
      ]
    },
    {
      "cell_type": "code",
      "source": [
        "w = np.array([0.7, 0.3, 1])\n",
        "w.shape"
      ],
      "metadata": {
        "colab": {
          "base_uri": "https://localhost:8080/"
        },
        "id": "n_UCoM40n6bB",
        "outputId": "5fa32f0c-0ab6-4e85-d6db-0caacb50d985"
      },
      "execution_count": null,
      "outputs": [
        {
          "output_type": "execute_result",
          "data": {
            "text/plain": [
              "(3,)"
            ]
          },
          "metadata": {},
          "execution_count": 21
        }
      ]
    },
    {
      "cell_type": "markdown",
      "source": [
        "Reshaping w vector (1D) to W matrix with 3 rows and 1 column.\n",
        "\n",
        "Reshape requires same # of elements in original array and new array."
      ],
      "metadata": {
        "id": "5IuV5_TPpH1p"
      }
    },
    {
      "cell_type": "code",
      "source": [
        "W = w.reshape(3,1)\n",
        "W"
      ],
      "metadata": {
        "colab": {
          "base_uri": "https://localhost:8080/"
        },
        "id": "R4hhuv6ipc64",
        "outputId": "1b70fb94-877b-4cc7-8455-bc4b87ccf9c7"
      },
      "execution_count": null,
      "outputs": [
        {
          "output_type": "execute_result",
          "data": {
            "text/plain": [
              "array([[0.7],\n",
              "       [0.3],\n",
              "       [1. ]])"
            ]
          },
          "metadata": {},
          "execution_count": 22
        }
      ]
    },
    {
      "cell_type": "markdown",
      "source": [
        "Reshaping W matrix to play with transpose."
      ],
      "metadata": {
        "id": "StAJfcT7M7Gz"
      }
    },
    {
      "cell_type": "code",
      "source": [
        "W_as_one_row = W.reshape(1,3)\n",
        "print(W_as_one_row)"
      ],
      "metadata": {
        "colab": {
          "base_uri": "https://localhost:8080/"
        },
        "id": "1DvB4z1nM7ZZ",
        "outputId": "a4473dcf-44cf-4c6a-f743-7313ea83206d"
      },
      "execution_count": null,
      "outputs": [
        {
          "output_type": "stream",
          "name": "stdout",
          "text": [
            "[[0.7 0.3 1. ]]\n"
          ]
        }
      ]
    },
    {
      "cell_type": "markdown",
      "source": [
        "@ is np.matmul shorthand\n",
        "\n",
        "https://numpy.org/doc/2.1/reference/generated/numpy.matmul.html#numpy.matmul"
      ],
      "metadata": {
        "id": "Sq62mQak5bhd"
      }
    },
    {
      "cell_type": "markdown",
      "source": [
        "Playing with transpositions"
      ],
      "metadata": {
        "id": "KTGHJ0IDFCGJ"
      }
    },
    {
      "cell_type": "code",
      "source": [
        "w_t = w.T\n",
        "\n",
        "print(X_T.shape)\n",
        "print(w_t.shape)\n",
        "m_t = X_T @ W_as_one_row.T\n",
        "m_t"
      ],
      "metadata": {
        "colab": {
          "base_uri": "https://localhost:8080/"
        },
        "id": "GWtvlcyOKMFQ",
        "outputId": "a54f321e-026d-4af7-fe18-546e2e31bf0a"
      },
      "execution_count": null,
      "outputs": [
        {
          "output_type": "stream",
          "name": "stdout",
          "text": [
            "(3, 3)\n",
            "(3,)\n"
          ]
        },
        {
          "output_type": "execute_result",
          "data": {
            "text/plain": [
              "array([[109.6],\n",
              "       [ 71.2],\n",
              "       [  0. ]])"
            ]
          },
          "metadata": {},
          "execution_count": 24
        }
      ]
    },
    {
      "cell_type": "code",
      "source": [
        "m_o = w @ X\n",
        "m_o.shape"
      ],
      "metadata": {
        "colab": {
          "base_uri": "https://localhost:8080/"
        },
        "id": "yh9VlbJZKNTH",
        "outputId": "714816ab-90e1-4eae-912b-3a135ca038ab"
      },
      "execution_count": null,
      "outputs": [
        {
          "output_type": "execute_result",
          "data": {
            "text/plain": [
              "(3,)"
            ]
          },
          "metadata": {},
          "execution_count": 25
        }
      ]
    },
    {
      "cell_type": "code",
      "source": [
        "m_new = m_o.reshape(1,3)\n",
        "m_new"
      ],
      "metadata": {
        "colab": {
          "base_uri": "https://localhost:8080/"
        },
        "id": "gT5dJFNNOymu",
        "outputId": "f5cc58ff-f331-4759-e798-48de1e222823"
      },
      "execution_count": null,
      "outputs": [
        {
          "output_type": "execute_result",
          "data": {
            "text/plain": [
              "array([[109.6,  71.2,   0. ]])"
            ]
          },
          "metadata": {},
          "execution_count": 26
        }
      ]
    },
    {
      "cell_type": "markdown",
      "source": [
        "np.allclose\n",
        "\n",
        "Returns True if two arrays are element-wise equal within a tolerance.\n",
        "\n",
        "**KEEP IN MIND THE SHAPE MUST ALIGN (e.g., (1,4) is not the same as (4,1)).\n",
        "https://numpy.org/doc/2.3/reference/generated/numpy.allclose.html#numpy-allclose"
      ],
      "metadata": {
        "id": "CCEldAYaaj7y"
      }
    },
    {
      "cell_type": "code",
      "source": [
        "np.allclose(X_T @ W_as_one_row.T, m_new.T)"
      ],
      "metadata": {
        "colab": {
          "base_uri": "https://localhost:8080/"
        },
        "id": "gbvYeuRAKNfK",
        "outputId": "d8c2b212-aa08-46d6-8d29-cf6adaeebc2d"
      },
      "execution_count": null,
      "outputs": [
        {
          "output_type": "execute_result",
          "data": {
            "text/plain": [
              "True"
            ]
          },
          "metadata": {},
          "execution_count": 27
        }
      ]
    },
    {
      "cell_type": "code",
      "source": [
        "X @ W"
      ],
      "metadata": {
        "colab": {
          "base_uri": "https://localhost:8080/"
        },
        "id": "aYmUgBGWrMcr",
        "outputId": "b0a3ef85-e62b-4c35-d576-54aaa4a8e1d4"
      },
      "execution_count": null,
      "outputs": [
        {
          "output_type": "execute_result",
          "data": {
            "text/plain": [
              "array([[52.5],\n",
              "       [48.1],\n",
              "       [46.9]])"
            ]
          },
          "metadata": {},
          "execution_count": 28
        }
      ]
    },
    {
      "cell_type": "code",
      "source": [
        "np.dot(X,W)"
      ],
      "metadata": {
        "colab": {
          "base_uri": "https://localhost:8080/"
        },
        "id": "40BTbjnQrMZ_",
        "outputId": "d010bac4-4272-428e-edcc-b3420287c57d"
      },
      "execution_count": null,
      "outputs": [
        {
          "output_type": "execute_result",
          "data": {
            "text/plain": [
              "array([[52.5],\n",
              "       [48.1],\n",
              "       [46.9]])"
            ]
          },
          "metadata": {},
          "execution_count": 29
        }
      ]
    },
    {
      "cell_type": "code",
      "source": [
        "np.dot([2j, 2 + 3j], [2j, 3j])"
      ],
      "metadata": {
        "colab": {
          "base_uri": "https://localhost:8080/"
        },
        "id": "s0dvwH3JrMXv",
        "outputId": "fb517d55-2fe7-4fda-fd5a-35da3e95aa05"
      },
      "execution_count": null,
      "outputs": [
        {
          "output_type": "execute_result",
          "data": {
            "text/plain": [
              "np.complex128(-13+6j)"
            ]
          },
          "metadata": {},
          "execution_count": 30
        }
      ]
    },
    {
      "cell_type": "code",
      "source": [
        "np.dot([2,3], [2,3])"
      ],
      "metadata": {
        "colab": {
          "base_uri": "https://localhost:8080/"
        },
        "id": "b-ooMmPwrMVF",
        "outputId": "df68419c-8b2b-4c33-dd63-67f422f82ecb"
      },
      "execution_count": null,
      "outputs": [
        {
          "output_type": "execute_result",
          "data": {
            "text/plain": [
              "np.int64(13)"
            ]
          },
          "metadata": {},
          "execution_count": 31
        }
      ]
    },
    {
      "cell_type": "code",
      "source": [
        "np.dot([1j,1j], [1j,1j])"
      ],
      "metadata": {
        "colab": {
          "base_uri": "https://localhost:8080/"
        },
        "id": "9egs4qW_rMSC",
        "outputId": "2fb6f58a-095f-4371-877d-9519e48dad70"
      },
      "execution_count": null,
      "outputs": [
        {
          "output_type": "execute_result",
          "data": {
            "text/plain": [
              "np.complex128(-2+0j)"
            ]
          },
          "metadata": {},
          "execution_count": 32
        }
      ]
    },
    {
      "cell_type": "code",
      "source": [
        "b = np.array([10])\n",
        "# b is bias given for example, not calculated\n",
        "\n",
        "Y = X @ W + b\n",
        "Y"
      ],
      "metadata": {
        "colab": {
          "base_uri": "https://localhost:8080/"
        },
        "id": "XN5PIM5SrMOI",
        "outputId": "b0a5cc8a-a15c-43f8-cccb-fd5eaf21639e"
      },
      "execution_count": null,
      "outputs": [
        {
          "output_type": "execute_result",
          "data": {
            "text/plain": [
              "array([[62.5],\n",
              "       [58.1],\n",
              "       [56.9]])"
            ]
          },
          "metadata": {},
          "execution_count": 33
        }
      ]
    },
    {
      "cell_type": "markdown",
      "source": [
        "Slope-intercept formula relation\n",
        "\n",
        "$y = mx + b$"
      ],
      "metadata": {
        "id": "r_ve_01R25CV"
      }
    },
    {
      "cell_type": "markdown",
      "source": [
        "\n",
        "\n",
        "---\n",
        "\n",
        "Normal Equation Method\n",
        "\n",
        "$$W = (X^T X)^{-1} X^T Y$$"
      ],
      "metadata": {
        "id": "7gM0B8zh3vLA"
      }
    },
    {
      "cell_type": "markdown",
      "source": [
        "---\n",
        "Identity matrix\n",
        "\n",
        "np.eye\n",
        "\n",
        "Return a 2-D array with ones on the diagonal and zeros elsewhere.\n",
        "\n",
        "https://numpy.org/doc/2.3/reference/generated/numpy.eye.html#numpy.eye"
      ],
      "metadata": {
        "id": "pwp46seHdWcs"
      }
    },
    {
      "cell_type": "markdown",
      "source": [
        "Inverse matrices\n",
        "\n",
        "np.linalg.inv\n",
        "\n",
        "DETERMINANT (also called AREA) is the SCALING FACTOR\n",
        "\n",
        "A matrix has an inverse (is invertible) if and only if its determinant is non-zero.\n",
        "\n",
        "Cannot invert a singular matrix because determinant is 0.  More simply, determinant is divisor & can't divide by 0. Inverted matrix will be undefined."
      ],
      "metadata": {
        "id": "RkXDQiLsgRT7"
      }
    },
    {
      "cell_type": "code",
      "source": [
        "#n = np.linalg.inv(X)\n",
        "#n"
      ],
      "metadata": {
        "id": "BiFSMHh0lCAl"
      },
      "execution_count": null,
      "outputs": []
    },
    {
      "cell_type": "code",
      "source": [
        "#norm = np.linalg.inv((X_T @ X)) @ X_T @ Y\n",
        "#norm"
      ],
      "metadata": {
        "id": "bV1hczXsrMKJ"
      },
      "execution_count": null,
      "outputs": []
    },
    {
      "cell_type": "markdown",
      "source": [
        "Ridge regression to solve problem of singular matrix.  We add a small 'ridge' to the diagonal."
      ],
      "metadata": {
        "id": "JC5z_rs5kO89"
      }
    },
    {
      "cell_type": "code",
      "source": [
        "id_m = 0.1 * np.eye(3)\n",
        "id_m"
      ],
      "metadata": {
        "id": "cW7hjdgZrME5",
        "colab": {
          "base_uri": "https://localhost:8080/"
        },
        "outputId": "46cc08c6-58fb-4386-e811-cc9bb1426809"
      },
      "execution_count": null,
      "outputs": [
        {
          "output_type": "execute_result",
          "data": {
            "text/plain": [
              "array([[0.1, 0. , 0. ],\n",
              "       [0. , 0.1, 0. ],\n",
              "       [0. , 0. , 0.1]])"
            ]
          },
          "metadata": {},
          "execution_count": 36
        }
      ]
    },
    {
      "cell_type": "markdown",
      "source": [
        "Test X.shape\n",
        "\n",
        "index 0 rows\n"
      ],
      "metadata": {
        "id": "uUr1lDjqVl2A"
      }
    },
    {
      "cell_type": "code",
      "source": [
        "id_test = 0.1 * np.eye(X.shape[0])\n",
        "id_test"
      ],
      "metadata": {
        "colab": {
          "base_uri": "https://localhost:8080/"
        },
        "id": "Oob3uKokVprn",
        "outputId": "cca0ab25-5fe6-451e-acf2-10836531c690"
      },
      "execution_count": null,
      "outputs": [
        {
          "output_type": "execute_result",
          "data": {
            "text/plain": [
              "array([[0.1, 0. , 0. ],\n",
              "       [0. , 0.1, 0. ],\n",
              "       [0. , 0. , 0.1]])"
            ]
          },
          "metadata": {},
          "execution_count": 37
        }
      ]
    },
    {
      "cell_type": "code",
      "source": [
        "oh = X.shape[0]\n",
        "oh"
      ],
      "metadata": {
        "colab": {
          "base_uri": "https://localhost:8080/"
        },
        "id": "N3zeKm6keAH4",
        "outputId": "dbdd5687-187a-4971-f996-daa6deaa939e"
      },
      "execution_count": null,
      "outputs": [
        {
          "output_type": "execute_result",
          "data": {
            "text/plain": [
              "3"
            ]
          },
          "metadata": {},
          "execution_count": 38
        }
      ]
    },
    {
      "cell_type": "code",
      "source": [
        "a = np.array([[1, 2], [3, 4], [5, 6]])\n",
        "\n",
        "print(a)\n",
        "print(a.shape[0])\n",
        "print(a.shape[1])"
      ],
      "metadata": {
        "colab": {
          "base_uri": "https://localhost:8080/"
        },
        "id": "ivBF32rcfffs",
        "outputId": "6f22e84b-d4a7-4403-ae63-14b0f620764a"
      },
      "execution_count": null,
      "outputs": [
        {
          "output_type": "stream",
          "name": "stdout",
          "text": [
            "[[1 2]\n",
            " [3 4]\n",
            " [5 6]]\n",
            "3\n",
            "2\n"
          ]
        }
      ]
    },
    {
      "cell_type": "code",
      "source": [
        "x_ridge = (X + id_m)\n",
        "x_ridge"
      ],
      "metadata": {
        "id": "H-LLQXk_rL9h",
        "colab": {
          "base_uri": "https://localhost:8080/"
        },
        "outputId": "e2f5a7eb-ac9c-4e7b-a6e7-a9725eaf354c"
      },
      "execution_count": null,
      "outputs": [
        {
          "output_type": "execute_result",
          "data": {
            "text/plain": [
              "array([[60.1, 35. ,  0. ],\n",
              "       [52. , 39.1,  0. ],\n",
              "       [52. , 35. ,  0.1]])"
            ]
          },
          "metadata": {},
          "execution_count": 40
        }
      ]
    },
    {
      "cell_type": "code",
      "source": [
        "inv = np.linalg.inv(x_ridge)\n",
        "inv"
      ],
      "metadata": {
        "id": "1OI283FbrLyr",
        "colab": {
          "base_uri": "https://localhost:8080/"
        },
        "outputId": "44cb32f2-9160-4970-adb0-3f86ebf231b6"
      },
      "execution_count": null,
      "outputs": [
        {
          "output_type": "execute_result",
          "data": {
            "text/plain": [
              "array([[ 0.07378611, -0.06604895,  0.        ],\n",
              "       [-0.09812987,  0.11341549,  0.        ],\n",
              "       [-4.02332472, -5.34996509, 10.        ]])"
            ]
          },
          "metadata": {},
          "execution_count": 41
        }
      ]
    },
    {
      "cell_type": "markdown",
      "source": [
        "Using allclose again to check if matrices are the same aside from rounding off."
      ],
      "metadata": {
        "id": "Dr5194i6qkoF"
      }
    },
    {
      "cell_type": "code",
      "source": [
        "check_close = np.allclose(x_ridge @ inv, np.eye(3))\n",
        "check_close"
      ],
      "metadata": {
        "colab": {
          "base_uri": "https://localhost:8080/"
        },
        "id": "-4Z8eLBXqk_L",
        "outputId": "0126829a-2c72-4fc4-bc5e-c9331d480fc9"
      },
      "execution_count": null,
      "outputs": [
        {
          "output_type": "execute_result",
          "data": {
            "text/plain": [
              "True"
            ]
          },
          "metadata": {},
          "execution_count": 42
        }
      ]
    },
    {
      "cell_type": "markdown",
      "source": [
        "Using normal equation to calculate weights (W)\n",
        "\n",
        "$$W = (X^T X)^{-1} X^T Y$$"
      ],
      "metadata": {
        "id": "IIp8XVK4NzqW"
      }
    },
    {
      "cell_type": "code",
      "source": [
        "Y = data[['tmax_tomorrow']].iloc[:3].to_numpy()\n",
        "W = np.linalg.inv(X.T @ X + id_m) @ X.T @ Y\n",
        "# = np.linalg.inv(X.T @ X + 0.1 * np.eye(X.shape[0])) @ X.T @ Y\n",
        "W"
      ],
      "metadata": {
        "colab": {
          "base_uri": "https://localhost:8080/"
        },
        "id": "RMTx94_6Nz7Q",
        "outputId": "83e5e439-c3c8-48d1-e19e-f17393125aec"
      },
      "execution_count": null,
      "outputs": [
        {
          "output_type": "execute_result",
          "data": {
            "text/plain": [
              "array([[0.38283829],\n",
              "       [0.86270249],\n",
              "       [0.        ]])"
            ]
          },
          "metadata": {},
          "execution_count": 43
        }
      ]
    },
    {
      "cell_type": "markdown",
      "source": [],
      "metadata": {
        "id": "htMavVlEZUHm"
      }
    },
    {
      "cell_type": "code",
      "source": [
        "Y"
      ],
      "metadata": {
        "colab": {
          "base_uri": "https://localhost:8080/"
        },
        "id": "SqOsWdMhZUZF",
        "outputId": "dd6c3419-182c-4865-ce42-0e5f749a87d7"
      },
      "execution_count": null,
      "outputs": [
        {
          "output_type": "execute_result",
          "data": {
            "text/plain": [
              "array([[52.],\n",
              "       [52.],\n",
              "       [53.]])"
            ]
          },
          "metadata": {},
          "execution_count": 44
        }
      ]
    },
    {
      "cell_type": "markdown",
      "source": [],
      "metadata": {
        "id": "O1vkbzczZUtd"
      }
    },
    {
      "cell_type": "code",
      "source": [
        "X @ W"
      ],
      "metadata": {
        "colab": {
          "base_uri": "https://localhost:8080/"
        },
        "id": "OzvWdPwYZVAp",
        "outputId": "28f86eef-9ecb-49fb-85ed-49533e7bd0d2"
      },
      "execution_count": null,
      "outputs": [
        {
          "output_type": "execute_result",
          "data": {
            "text/plain": [
              "array([[53.16488447],\n",
              "       [53.55298814],\n",
              "       [50.10217817]])"
            ]
          },
          "metadata": {},
          "execution_count": 45
        }
      ]
    },
    {
      "cell_type": "code",
      "source": [
        "c = np.ones((5,1))\n",
        "c"
      ],
      "metadata": {
        "colab": {
          "base_uri": "https://localhost:8080/"
        },
        "id": "sM2UY9lObSD4",
        "outputId": "94fd211c-a1fd-44d6-d32c-df3635e33339"
      },
      "execution_count": null,
      "outputs": [
        {
          "output_type": "execute_result",
          "data": {
            "text/plain": [
              "array([[1.],\n",
              "       [1.],\n",
              "       [1.],\n",
              "       [1.],\n",
              "       [1.]])"
            ]
          },
          "metadata": {},
          "execution_count": 46
        }
      ]
    },
    {
      "cell_type": "code",
      "source": [
        "d = np.ones((1,1))\n",
        "d"
      ],
      "metadata": {
        "colab": {
          "base_uri": "https://localhost:8080/"
        },
        "id": "m4Y792CNbR7r",
        "outputId": "6e82a11f-ef42-4e99-8350-088b9a0012cf"
      },
      "execution_count": null,
      "outputs": [
        {
          "output_type": "execute_result",
          "data": {
            "text/plain": [
              "array([[1.]])"
            ]
          },
          "metadata": {},
          "execution_count": 47
        }
      ]
    },
    {
      "cell_type": "code",
      "source": [
        "e = c + d\n",
        "e"
      ],
      "metadata": {
        "colab": {
          "base_uri": "https://localhost:8080/"
        },
        "id": "icVROpXdbRzX",
        "outputId": "8e35a00c-2831-484b-f812-b4763dcd851a"
      },
      "execution_count": null,
      "outputs": [
        {
          "output_type": "execute_result",
          "data": {
            "text/plain": [
              "array([[2.],\n",
              "       [2.],\n",
              "       [2.],\n",
              "       [2.],\n",
              "       [2.]])"
            ]
          },
          "metadata": {},
          "execution_count": 48
        }
      ]
    },
    {
      "cell_type": "code",
      "source": [
        "f = np.array([[2,4,7,8], [6,8,5,2], [10,12,7,6]])\n",
        "print(f.shape)\n",
        "print(len(f))"
      ],
      "metadata": {
        "colab": {
          "base_uri": "https://localhost:8080/"
        },
        "id": "2al1OWPZbRZS",
        "outputId": "40db0814-2c9c-44cb-91f1-9ae6ba8377bd"
      },
      "execution_count": null,
      "outputs": [
        {
          "output_type": "stream",
          "name": "stdout",
          "text": [
            "(3, 4)\n",
            "3\n"
          ]
        }
      ]
    },
    {
      "cell_type": "markdown",
      "source": [
        "Derivative is slope of tangent line to the curve of the function at a specific point."
      ],
      "metadata": {
        "id": "nNLEZpd1iX3Y"
      }
    },
    {
      "cell_type": "markdown",
      "source": [
        "---\n",
        "Finite differences method\n",
        "\n",
        "$\\frac{y^2 - y^1}{x^2 - x^1}$"
      ],
      "metadata": {
        "id": "KjHtAqGejgc2"
      }
    },
    {
      "cell_type": "markdown",
      "source": [
        "---\n",
        "Derivatives important for training neural networks and backpropagation.\n",
        "\n",
        "Plotting functions and calculating derivatives."
      ],
      "metadata": {
        "id": "dwB02CrDmUYU"
      }
    },
    {
      "cell_type": "code",
      "source": [
        "import matplotlib.pyplot as plt\n",
        "\n",
        "x = np.arange(-60, 60, 0.1)\n",
        "fx = x ** 3\n",
        "\n",
        "plt.plot(x, fx)"
      ],
      "metadata": {
        "colab": {
          "base_uri": "https://localhost:8080/",
          "height": 448
        },
        "id": "ihlVdrgBnBxW",
        "outputId": "89d9ef48-58d0-43a3-9a93-4d03b6db51c3"
      },
      "execution_count": null,
      "outputs": [
        {
          "output_type": "execute_result",
          "data": {
            "text/plain": [
              "[<matplotlib.lines.Line2D at 0x7a162585ce90>]"
            ]
          },
          "metadata": {},
          "execution_count": 67
        },
        {
          "output_type": "display_data",
          "data": {
            "text/plain": [
              "<Figure size 640x480 with 1 Axes>"
            ],
            "image/png": "[encoded data removed]"
          },
          "metadata": {}
        }
      ]
    },
    {
      "cell_type": "code",
      "source": [
        "x1 = 40 - 1e-7\n",
        "x2 = 40 + 1e-7\n",
        "\n",
        "y1 = x1 ** 3\n",
        "y2 = x2 ** 3\n",
        "\n",
        "slope = (y2 - y1)/(x2 - x1)\n",
        "slope"
      ],
      "metadata": {
        "colab": {
          "base_uri": "https://localhost:8080/"
        },
        "id": "WfLm9F7cfJ64",
        "outputId": "57eb287c-07e0-4eb8-845d-05e2eb2056ae"
      },
      "execution_count": null,
      "outputs": [
        {
          "output_type": "execute_result",
          "data": {
            "text/plain": [
              "4800.0000045474735"
            ]
          },
          "metadata": {},
          "execution_count": 68
        }
      ]
    },
    {
      "cell_type": "markdown",
      "source": [
        "Checking against my derivitave calculation:\n",
        "\n",
        "$f(x) = x^3$\n",
        "\n",
        "$f'(x) = 3x^2$"
      ],
      "metadata": {
        "id": "QmNB1fvwp9-U"
      }
    },
    {
      "cell_type": "code",
      "source": [
        "x = 40\n",
        "der = 3 * x ** 2\n",
        "der"
      ],
      "metadata": {
        "colab": {
          "base_uri": "https://localhost:8080/"
        },
        "id": "oIZj4s76fkMG",
        "outputId": "fcbc5658-9e65-4302-e76a-c220bbea511f"
      },
      "execution_count": null,
      "outputs": [
        {
          "output_type": "execute_result",
          "data": {
            "text/plain": [
              "4800"
            ]
          },
          "metadata": {},
          "execution_count": 69
        }
      ]
    },
    {
      "cell_type": "markdown",
      "source": [
        "\n",
        "\n"
      ],
      "metadata": {
        "id": "2pwDKgBvbQxZ"
      }
    }
  ]
}