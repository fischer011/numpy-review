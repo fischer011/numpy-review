{
  "nbformat": 4,
  "nbformat_minor": 0,
  "metadata": {
    "colab": {
      "provenance": []
    },
    "kernelspec": {
      "name": "python3",
      "display_name": "Python 3"
    },
    "language_info": {
      "name": "python"
    }
  },
  "cells": [
    {
      "cell_type": "code",
      "source": [
        "import numpy as np\n",
        "v = np.array([1,1])\n",
        "v\n",
        "v.shape"
      ],
      "metadata": {
        "colab": {
          "base_uri": "https://localhost:8080/"
        },
        "id": "tIxhWRBxLY8l",
        "outputId": "9293d118-bd49-4bc1-da99-5802b96083b0"
      },
      "execution_count": 1,
      "outputs": [
        {
          "output_type": "execute_result",
          "data": {
            "text/plain": [
              "(2,)"
            ]
          },
          "metadata": {},
          "execution_count": 1
        }
      ]
    },
    {
      "cell_type": "code",
      "source": [
        "m = np.array([[3,2], [3,2]])\n",
        "m\n",
        "m[0,[0]]"
      ],
      "metadata": {
        "colab": {
          "base_uri": "https://localhost:8080/"
        },
        "id": "LrToSCwNLY5C",
        "outputId": "e0f6ae83-5608-46e5-9127-7c16996eaa67"
      },
      "execution_count": 2,
      "outputs": [
        {
          "output_type": "execute_result",
          "data": {
            "text/plain": [
              "array([3])"
            ]
          },
          "metadata": {},
          "execution_count": 2
        }
      ]
    },
    {
      "cell_type": "code",
      "source": [
        "import matplotlib.pyplot as plt\n",
        "\n",
        "plt.xlim(0, 3)\n",
        "plt.ylim(0, 3)\n",
        "\n",
        "d0=m[0]\n",
        "d1=m[1]\n",
        "dx=d0[0]\n",
        "dy=d0[1]\n",
        "\n",
        "plt.arrow(0, 0, dx, dy, head_width=0.05, head_length=0.1)"
      ],
      "metadata": {
        "colab": {
          "base_uri": "https://localhost:8080/",
          "height": 453
        },
        "id": "qbic_3ni2VUQ",
        "outputId": "c3b0c5d7-76e6-4d63-af6e-1123a585ae35"
      },
      "execution_count": 3,
      "outputs": [
        {
          "output_type": "execute_result",
          "data": {
            "text/plain": [
              "<matplotlib.patches.FancyArrow at 0x7927d277a4d0>"
            ]
          },
          "metadata": {},
          "execution_count": 3
        },
        {
          "output_type": "display_data",
          "data": {
            "text/plain": [
              "<Figure size 640x480 with 1 Axes>"
            ],
            "image/png": "[encoded data removed]"
          },
          "metadata": {}
        }
      ]
    },
    {
      "cell_type": "code",
      "source": [
        "plt.xlim(0, 3)\n",
        "plt.ylim(0, 3)\n",
        "\n",
        "plt.arrow(0, 0, v[0], v[1], head_width=0.05, head_length=0.1)"
      ],
      "metadata": {
        "colab": {
          "base_uri": "https://localhost:8080/",
          "height": 453
        },
        "id": "UEt4Cb7ZR58y",
        "outputId": "4eea1393-ea1a-4c8c-d7a6-145f0a312e55"
      },
      "execution_count": 4,
      "outputs": [
        {
          "output_type": "execute_result",
          "data": {
            "text/plain": [
              "<matplotlib.patches.FancyArrow at 0x7927d1be2610>"
            ]
          },
          "metadata": {},
          "execution_count": 4
        },
        {
          "output_type": "display_data",
          "data": {
            "text/plain": [
              "<Figure size 640x480 with 1 Axes>"
            ],
            "image/png": "[encoded data removed]"
          },
          "metadata": {}
        }
      ]
    },
    {
      "cell_type": "markdown",
      "source": [
        "L2 norm formula is Euclidean distance (hypotenuse of triangle formed by x length and y length of vector)"
      ],
      "metadata": {
        "id": "ubrSn_tgOuxI"
      }
    },
    {
      "cell_type": "markdown",
      "source": [
        "$$||x||_{2} = \\sqrt{x_{1}^{2} + x_{2}^{2} +\\cdots + x_{n}^{2}}$$"
      ],
      "metadata": {
        "id": "jkPIZ2sWOlIf"
      }
    },
    {
      "cell_type": "markdown",
      "source": [
        "For v: 1^2 + 1^2 = 2;\n",
        "sqrt(2) ~ 1.41"
      ],
      "metadata": {
        "id": "lR1ktMVKPmY7"
      }
    },
    {
      "cell_type": "code",
      "source": [
        "np.sum(v ** 2)"
      ],
      "metadata": {
        "colab": {
          "base_uri": "https://localhost:8080/"
        },
        "id": "lDS7X0tpQcRA",
        "outputId": "eb24744a-cd3d-4254-82d8-47231bf72f75"
      },
      "execution_count": 5,
      "outputs": [
        {
          "output_type": "execute_result",
          "data": {
            "text/plain": [
              "np.int64(2)"
            ]
          },
          "metadata": {},
          "execution_count": 5
        }
      ]
    },
    {
      "cell_type": "code",
      "source": [
        "np.sqrt(np.sum(v ** 2))"
      ],
      "metadata": {
        "colab": {
          "base_uri": "https://localhost:8080/"
        },
        "id": "0rSzHfdvOr6_",
        "outputId": "d32cc660-721b-444e-dc24-2beba806bbaf"
      },
      "execution_count": 6,
      "outputs": [
        {
          "output_type": "execute_result",
          "data": {
            "text/plain": [
              "np.float64(1.4142135623730951)"
            ]
          },
          "metadata": {},
          "execution_count": 6
        }
      ]
    },
    {
      "cell_type": "code",
      "source": [
        "v3 = np.array([0, 1, 2])"
      ],
      "metadata": {
        "id": "962YPOG_LY1n"
      },
      "execution_count": 7,
      "outputs": []
    },
    {
      "cell_type": "markdown",
      "source": [],
      "metadata": {
        "id": "EM0hVabNNNCS"
      }
    },
    {
      "cell_type": "code",
      "execution_count": 8,
      "metadata": {
        "colab": {
          "base_uri": "https://localhost:8080/",
          "height": 841
        },
        "id": "_eKgUgfyLXxI",
        "outputId": "9d43972c-d0b3-40c8-c114-e508f0c4bb1d"
      },
      "outputs": [
        {
          "output_type": "execute_result",
          "data": {
            "text/plain": [
              "<mpl_toolkits.mplot3d.art3d.Line3DCollection at 0x7927d0256f10>"
            ]
          },
          "metadata": {},
          "execution_count": 8
        },
        {
          "output_type": "display_data",
          "data": {
            "text/plain": [
              "<Figure size 640x480 with 1 Axes>"
            ],
            "image/png": "[encoded data removed]"
          },
          "metadata": {}
        },
        {
          "output_type": "display_data",
          "data": {
            "text/plain": [
              "<Figure size 640x480 with 1 Axes>"
            ],
            "image/png": "[encoded data removed]"
          },
          "metadata": {}
        }
      ],
      "source": [
        "fig1 = plt.figure()\n",
        "ax = fig1.add_subplot(111, projection='3d')\n",
        "\n",
        "ax.set_xlim([0, 3])\n",
        "ax.set_ylim([0, 3])\n",
        "ax.set_zlim([0, 3])\n",
        "\n",
        "ax.quiver(0, 0, 0, v3[0], v3[1], v3[2], length=1)\n",
        "\n",
        "fig2 = plt.figure()\n",
        "ax = fig2.add_subplot(111, projection='3d')\n",
        "\n",
        "ax.set_xlim([0, 3])\n",
        "ax.set_ylim([0, 3])\n",
        "ax.set_zlim([0, 3])\n",
        "\n",
        "ax.quiver(0, 0, 0, v3[0], v3[1], v3[2], length=1)"
      ]
    },
    {
      "cell_type": "code",
      "source": [
        "v5 = np.array([0, 1, 2, 3, 4])"
      ],
      "metadata": {
        "id": "ePBYcsYzNH4c"
      },
      "execution_count": 9,
      "outputs": []
    },
    {
      "cell_type": "markdown",
      "source": [
        "Scaling vectors"
      ],
      "metadata": {
        "id": "ErYzmMNoSFjm"
      }
    },
    {
      "cell_type": "code",
      "source": [
        "v_half = np.array([2,1]) * 0.5\n",
        "v_half"
      ],
      "metadata": {
        "colab": {
          "base_uri": "https://localhost:8080/"
        },
        "id": "K_OFV3t0NHvh",
        "outputId": "a5a638ec-93d2-4fd4-d45f-863537ad9f91"
      },
      "execution_count": 10,
      "outputs": [
        {
          "output_type": "execute_result",
          "data": {
            "text/plain": [
              "array([1. , 0.5])"
            ]
          },
          "metadata": {},
          "execution_count": 10
        }
      ]
    },
    {
      "cell_type": "markdown",
      "source": [
        "Adding vectors"
      ],
      "metadata": {
        "id": "Oez0PD2-TiRd"
      }
    },
    {
      "cell_type": "code",
      "source": [
        "v_add  = np.array([1,1]) + v_half\n",
        "v_add"
      ],
      "metadata": {
        "colab": {
          "base_uri": "https://localhost:8080/"
        },
        "id": "R9mzrwulNHk4",
        "outputId": "7f609d10-62f0-4c4d-92ae-36a0b54f6db9"
      },
      "execution_count": 11,
      "outputs": [
        {
          "output_type": "execute_result",
          "data": {
            "text/plain": [
              "array([2. , 1.5])"
            ]
          },
          "metadata": {},
          "execution_count": 11
        }
      ]
    },
    {
      "cell_type": "markdown",
      "source": [
        "Basis vectors\n",
        "\n",
        "Canonical basis vectors:\n",
        "\n",
        "0,1\n",
        "\n",
        "1,0"
      ],
      "metadata": {
        "id": "Cdj1I_XuWV8v"
      }
    },
    {
      "cell_type": "code",
      "source": [
        "v1 = np.array([0,1])\n",
        "v2 = np.array([1,0])"
      ],
      "metadata": {
        "id": "p3Ii-_hMNHZV"
      },
      "execution_count": 12,
      "outputs": []
    },
    {
      "cell_type": "code",
      "source": [
        "# Can use basis vectors to reach any point in 2D space\n",
        "# 0.3, 1\n",
        "\n",
        "v1 + v2 * 0.3\n",
        "\n"
      ],
      "metadata": {
        "colab": {
          "base_uri": "https://localhost:8080/"
        },
        "id": "0z35Tp6uNHM4",
        "outputId": "61b430d4-1276-4da5-af30-1e670e1b779b"
      },
      "execution_count": 13,
      "outputs": [
        {
          "output_type": "execute_result",
          "data": {
            "text/plain": [
              "array([0.3, 1. ])"
            ]
          },
          "metadata": {},
          "execution_count": 13
        }
      ]
    },
    {
      "cell_type": "code",
      "source": [
        "# Basis vectors are orthogonal to each other\n",
        "# So dot product equals zero\n",
        "\n",
        "np.dot(v1,v2)"
      ],
      "metadata": {
        "colab": {
          "base_uri": "https://localhost:8080/"
        },
        "id": "hPq-ulDxNG9n",
        "outputId": "df735707-7b31-4c30-c12f-214e53611850"
      },
      "execution_count": 14,
      "outputs": [
        {
          "output_type": "execute_result",
          "data": {
            "text/plain": [
              "np.int64(0)"
            ]
          },
          "metadata": {},
          "execution_count": 14
        }
      ]
    },
    {
      "cell_type": "markdown",
      "source": [
        "You can change basis vectors\n",
        "\n",
        "Important usage in ML and DL"
      ],
      "metadata": {
        "id": "avsyw8Cia2q4"
      }
    },
    {
      "cell_type": "code",
      "source": [
        "M = np.array([[0,1,2], [1,0,2], [3,1,0]])\n",
        "M"
      ],
      "metadata": {
        "colab": {
          "base_uri": "https://localhost:8080/"
        },
        "id": "Apu7gr_CbBrT",
        "outputId": "61b9c6a0-de0d-4bb7-d0a4-8c411f193885"
      },
      "execution_count": 15,
      "outputs": [
        {
          "output_type": "execute_result",
          "data": {
            "text/plain": [
              "array([[0, 1, 2],\n",
              "       [1, 0, 2],\n",
              "       [3, 1, 0]])"
            ]
          },
          "metadata": {},
          "execution_count": 15
        }
      ]
    },
    {
      "cell_type": "markdown",
      "source": [
        "Matrix variable is uppercase by convention in programming and math"
      ],
      "metadata": {
        "id": "M07AvePHrGwE"
      }
    },
    {
      "cell_type": "code",
      "source": [
        "M.shape"
      ],
      "metadata": {
        "colab": {
          "base_uri": "https://localhost:8080/"
        },
        "id": "H93Xva06bCez",
        "outputId": "2086f23c-ea4b-45ba-fc5d-6c7a0f6a79e0"
      },
      "execution_count": 16,
      "outputs": [
        {
          "output_type": "execute_result",
          "data": {
            "text/plain": [
              "(3, 3)"
            ]
          },
          "metadata": {},
          "execution_count": 16
        }
      ]
    },
    {
      "cell_type": "markdown",
      "source": [
        "Linear regression formula\n",
        "\n",
        "$\\hat{y} = wx + b$"
      ],
      "metadata": {
        "id": "gMTyyLgBtJy-"
      }
    },
    {
      "cell_type": "code",
      "source": [
        "import pandas as pd\n",
        "\n",
        "# Read in the data\n",
        "data = pd.read_csv(\"/content/clean_weather.csv\", index_col=0)\n",
        "# Fill missing data with past data\n",
        "# Fill NA/NaN values by propagating the last valid observation to next valid.\n",
        "data = data.ffill()\n",
        "\n",
        "data.head(5)\n"
      ],
      "metadata": {
        "colab": {
          "base_uri": "https://localhost:8080/",
          "height": 206
        },
        "id": "P0Qdj5cNbCa1",
        "outputId": "5bb498b0-282f-42b8-c4a9-999f04b91fde"
      },
      "execution_count": 17,
      "outputs": [
        {
          "output_type": "execute_result",
          "data": {
            "text/plain": [
              "            tmax  tmin  rain  tmax_tomorrow\n",
              "1970-01-01  60.0  35.0   0.0           52.0\n",
              "1970-01-02  52.0  39.0   0.0           52.0\n",
              "1970-01-03  52.0  35.0   0.0           53.0\n",
              "1970-01-04  53.0  36.0   0.0           52.0\n",
              "1970-01-05  52.0  35.0   0.0           50.0"
            ],
            "text/html": [
              "\n",
              "  <div id=\"df-70ee442d-1e71-4df6-ac11-7821b474f222\" class=\"colab-df-container\">\n",
              "    <div>\n",
              "<style scoped>\n",
              "    .dataframe tbody tr th:only-of-type {\n",
              "        vertical-align: middle;\n",
              "    }\n",
              "\n",
              "    .dataframe tbody tr th {\n",
              "        vertical-align: top;\n",
              "    }\n",
              "\n",
              "    .dataframe thead th {\n",
              "        text-align: right;\n",
              "    }\n",
              "</style>\n",
              "<table border=\"1\" class=\"dataframe\">\n",
              "  <thead>\n",
              "    <tr style=\"text-align: right;\">\n",
              "      <th></th>\n",
              "      <th>tmax</th>\n",
              "      <th>tmin</th>\n",
              "      <th>rain</th>\n",
              "      <th>tmax_tomorrow</th>\n",
              "    </tr>\n",
              "  </thead>\n",
              "  <tbody>\n",
              "    <tr>\n",
              "      <th>1970-01-01</th>\n",
              "      <td>60.0</td>\n",
              "      <td>35.0</td>\n",
              "      <td>0.0</td>\n",
              "      <td>52.0</td>\n",
              "    </tr>\n",
              "    <tr>\n",
              "      <th>1970-01-02</th>\n",
              "      <td>52.0</td>\n",
              "      <td>39.0</td>\n",
              "      <td>0.0</td>\n",
              "      <td>52.0</td>\n",
              "    </tr>\n",
              "    <tr>\n",
              "      <th>1970-01-03</th>\n",
              "      <td>52.0</td>\n",
              "      <td>35.0</td>\n",
              "      <td>0.0</td>\n",
              "      <td>53.0</td>\n",
              "    </tr>\n",
              "    <tr>\n",
              "      <th>1970-01-04</th>\n",
              "      <td>53.0</td>\n",
              "      <td>36.0</td>\n",
              "      <td>0.0</td>\n",
              "      <td>52.0</td>\n",
              "    </tr>\n",
              "    <tr>\n",
              "      <th>1970-01-05</th>\n",
              "      <td>52.0</td>\n",
              "      <td>35.0</td>\n",
              "      <td>0.0</td>\n",
              "      <td>50.0</td>\n",
              "    </tr>\n",
              "  </tbody>\n",
              "</table>\n",
              "</div>\n",
              "    <div class=\"colab-df-buttons\">\n",
              "\n",
              "  <div class=\"colab-df-container\">\n",
              "    <button class=\"colab-df-convert\" onclick=\"convertToInteractive('df-70ee442d-1e71-4df6-ac11-7821b474f222')\"\n",
              "            title=\"Convert this dataframe to an interactive table.\"\n",
              "            style=\"display:none;\">\n",
              "\n",
              "  <svg xmlns=\"http://www.w3.org/2000/svg\" height=\"24px\" viewBox=\"0 -960 960 960\">\n",
              "    <path d=\"M120-120v-720h720v720H120Zm60-500h600v-160H180v160Zm220 220h160v-160H400v160Zm0 220h160v-160H400v160ZM180-400h160v-160H180v160Zm440 0h160v-160H620v160ZM180-180h160v-160H180v160Zm440 0h160v-160H620v160Z\"/>\n",
              "  </svg>\n",
              "    </button>\n",
              "\n",
              "  <style>\n",
              "    .colab-df-container {\n",
              "      display:flex;\n",
              "      gap: 12px;\n",
              "    }\n",
              "\n",
              "    .colab-df-convert {\n",
              "      background-color: #E8F0FE;\n",
              "      border: none;\n",
              "      border-radius: 50%;\n",
              "      cursor: pointer;\n",
              "      display: none;\n",
              "      fill: #1967D2;\n",
              "      height: 32px;\n",
              "      padding: 0 0 0 0;\n",
              "      width: 32px;\n",
              "    }\n",
              "\n",
              "    .colab-df-convert:hover {\n",
              "      background-color: #E2EBFA;\n",
              "      box-shadow: 0px 1px 2px rgba(60, 64, 67, 0.3), 0px 1px 3px 1px rgba(60, 64, 67, 0.15);\n",
              "      fill: #174EA6;\n",
              "    }\n",
              "\n",
              "    .colab-df-buttons div {\n",
              "      margin-bottom: 4px;\n",
              "    }\n",
              "\n",
              "    [theme=dark] .colab-df-convert {\n",
              "      background-color: #3B4455;\n",
              "      fill: #D2E3FC;\n",
              "    }\n",
              "\n",
              "    [theme=dark] .colab-df-convert:hover {\n",
              "      background-color: #434B5C;\n",
              "      box-shadow: 0px 1px 3px 1px rgba(0, 0, 0, 0.15);\n",
              "      filter: drop-shadow(0px 1px 2px rgba(0, 0, 0, 0.3));\n",
              "      fill: #FFFFFF;\n",
              "    }\n",
              "  </style>\n",
              "\n",
              "    <script>\n",
              "      const buttonEl =\n",
              "        document.querySelector('#df-70ee442d-1e71-4df6-ac11-7821b474f222 button.colab-df-convert');\n",
              "      buttonEl.style.display =\n",
              "        google.colab.kernel.accessAllowed ? 'block' : 'none';\n",
              "\n",
              "      async function convertToInteractive(key) {\n",
              "        const element = document.querySelector('#df-70ee442d-1e71-4df6-ac11-7821b474f222');\n",
              "        const dataTable =\n",
              "          await google.colab.kernel.invokeFunction('convertToInteractive',\n",
              "                                                    [key], {});\n",
              "        if (!dataTable) return;\n",
              "\n",
              "        const docLinkHtml = 'Like what you see? Visit the ' +\n",
              "          '<a target=\"_blank\" href=https://colab.research.google.com/notebooks/data_table.ipynb>data table notebook</a>'\n",
              "          + ' to learn more about interactive tables.';\n",
              "        element.innerHTML = '';\n",
              "        dataTable['output_type'] = 'display_data';\n",
              "        await google.colab.output.renderOutput(dataTable, element);\n",
              "        const docLink = document.createElement('div');\n",
              "        docLink.innerHTML = docLinkHtml;\n",
              "        element.appendChild(docLink);\n",
              "      }\n",
              "    </script>\n",
              "  </div>\n",
              "\n",
              "\n",
              "    <div id=\"df-524147e2-0933-4b5d-87b9-f4ac4ef609a8\">\n",
              "      <button class=\"colab-df-quickchart\" onclick=\"quickchart('df-524147e2-0933-4b5d-87b9-f4ac4ef609a8')\"\n",
              "                title=\"Suggest charts\"\n",
              "                style=\"display:none;\">\n",
              "\n",
              "<svg xmlns=\"http://www.w3.org/2000/svg\" height=\"24px\"viewBox=\"0 0 24 24\"\n",
              "     width=\"24px\">\n",
              "    <g>\n",
              "        <path d=\"M19 3H5c-1.1 0-2 .9-2 2v14c0 1.1.9 2 2 2h14c1.1 0 2-.9 2-2V5c0-1.1-.9-2-2-2zM9 17H7v-7h2v7zm4 0h-2V7h2v10zm4 0h-2v-4h2v4z\"/>\n",
              "    </g>\n",
              "</svg>\n",
              "      </button>\n",
              "\n",
              "<style>\n",
              "  .colab-df-quickchart {\n",
              "      --bg-color: #E8F0FE;\n",
              "      --fill-color: #1967D2;\n",
              "      --hover-bg-color: #E2EBFA;\n",
              "      --hover-fill-color: #174EA6;\n",
              "      --disabled-fill-color: #AAA;\n",
              "      --disabled-bg-color: #DDD;\n",
              "  }\n",
              "\n",
              "  [theme=dark] .colab-df-quickchart {\n",
              "      --bg-color: #3B4455;\n",
              "      --fill-color: #D2E3FC;\n",
              "      --hover-bg-color: #434B5C;\n",
              "      --hover-fill-color: #FFFFFF;\n",
              "      --disabled-bg-color: #3B4455;\n",
              "      --disabled-fill-color: #666;\n",
              "  }\n",
              "\n",
              "  .colab-df-quickchart {\n",
              "    background-color: var(--bg-color);\n",
              "    border: none;\n",
              "    border-radius: 50%;\n",
              "    cursor: pointer;\n",
              "    display: none;\n",
              "    fill: var(--fill-color);\n",
              "    height: 32px;\n",
              "    padding: 0;\n",
              "    width: 32px;\n",
              "  }\n",
              "\n",
              "  .colab-df-quickchart:hover {\n",
              "    background-color: var(--hover-bg-color);\n",
              "    box-shadow: 0 1px 2px rgba(60, 64, 67, 0.3), 0 1px 3px 1px rgba(60, 64, 67, 0.15);\n",
              "    fill: var(--button-hover-fill-color);\n",
              "  }\n",
              "\n",
              "  .colab-df-quickchart-complete:disabled,\n",
              "  .colab-df-quickchart-complete:disabled:hover {\n",
              "    background-color: var(--disabled-bg-color);\n",
              "    fill: var(--disabled-fill-color);\n",
              "    box-shadow: none;\n",
              "  }\n",
              "\n",
              "  .colab-df-spinner {\n",
              "    border: 2px solid var(--fill-color);\n",
              "    border-color: transparent;\n",
              "    border-bottom-color: var(--fill-color);\n",
              "    animation:\n",
              "      spin 1s steps(1) infinite;\n",
              "  }\n",
              "\n",
              "  @keyframes spin {\n",
              "    0% {\n",
              "      border-color: transparent;\n",
              "      border-bottom-color: var(--fill-color);\n",
              "      border-left-color: var(--fill-color);\n",
              "    }\n",
              "    20% {\n",
              "      border-color: transparent;\n",
              "      border-left-color: var(--fill-color);\n",
              "      border-top-color: var(--fill-color);\n",
              "    }\n",
              "    30% {\n",
              "      border-color: transparent;\n",
              "      border-left-color: var(--fill-color);\n",
              "      border-top-color: var(--fill-color);\n",
              "      border-right-color: var(--fill-color);\n",
              "    }\n",
              "    40% {\n",
              "      border-color: transparent;\n",
              "      border-right-color: var(--fill-color);\n",
              "      border-top-color: var(--fill-color);\n",
              "    }\n",
              "    60% {\n",
              "      border-color: transparent;\n",
              "      border-right-color: var(--fill-color);\n",
              "    }\n",
              "    80% {\n",
              "      border-color: transparent;\n",
              "      border-right-color: var(--fill-color);\n",
              "      border-bottom-color: var(--fill-color);\n",
              "    }\n",
              "    90% {\n",
              "      border-color: transparent;\n",
              "      border-bottom-color: var(--fill-color);\n",
              "    }\n",
              "  }\n",
              "</style>\n",
              "\n",
              "      <script>\n",
              "        async function quickchart(key) {\n",
              "          const quickchartButtonEl =\n",
              "            document.querySelector('#' + key + ' button');\n",
              "          quickchartButtonEl.disabled = true;  // To prevent multiple clicks.\n",
              "          quickchartButtonEl.classList.add('colab-df-spinner');\n",
              "          try {\n",
              "            const charts = await google.colab.kernel.invokeFunction(\n",
              "                'suggestCharts', [key], {});\n",
              "          } catch (error) {\n",
              "            console.error('Error during call to suggestCharts:', error);\n",
              "          }\n",
              "          quickchartButtonEl.classList.remove('colab-df-spinner');\n",
              "          quickchartButtonEl.classList.add('colab-df-quickchart-complete');\n",
              "        }\n",
              "        (() => {\n",
              "          let quickchartButtonEl =\n",
              "            document.querySelector('#df-524147e2-0933-4b5d-87b9-f4ac4ef609a8 button');\n",
              "          quickchartButtonEl.style.display =\n",
              "            google.colab.kernel.accessAllowed ? 'block' : 'none';\n",
              "        })();\n",
              "      </script>\n",
              "    </div>\n",
              "\n",
              "    </div>\n",
              "  </div>\n"
            ],
            "application/vnd.google.colaboratory.intrinsic+json": {
              "type": "dataframe",
              "variable_name": "data",
              "summary": "{\n  \"name\": \"data\",\n  \"rows\": 13509,\n  \"fields\": [\n    {\n      \"column\": \"tmax\",\n      \"properties\": {\n        \"dtype\": \"number\",\n        \"std\": 8.328976736053626,\n        \"min\": 38.0,\n        \"max\": 122.0,\n        \"num_unique_values\": 66,\n        \"samples\": [\n          43.0,\n          122.0,\n          60.0\n        ],\n        \"semantic_type\": \"\",\n        \"description\": \"\"\n      }\n    },\n    {\n      \"column\": \"tmin\",\n      \"properties\": {\n        \"dtype\": \"number\",\n        \"std\": 6.792530879740785,\n        \"min\": 1.0,\n        \"max\": 69.0,\n        \"num_unique_values\": 48,\n        \"samples\": [\n          37.0,\n          68.0,\n          40.0\n        ],\n        \"semantic_type\": \"\",\n        \"description\": \"\"\n      }\n    },\n    {\n      \"column\": \"rain\",\n      \"properties\": {\n        \"dtype\": \"number\",\n        \"std\": 0.1805763898947246,\n        \"min\": 0.0,\n        \"max\": 3.58,\n        \"num_unique_values\": 161,\n        \"samples\": [\n          1.29,\n          0.61,\n          1.52\n        ],\n        \"semantic_type\": \"\",\n        \"description\": \"\"\n      }\n    },\n    {\n      \"column\": \"tmax_tomorrow\",\n      \"properties\": {\n        \"dtype\": \"number\",\n        \"std\": 8.328832488077406,\n        \"min\": 38.0,\n        \"max\": 122.0,\n        \"num_unique_values\": 66,\n        \"samples\": [\n          43.0,\n          122.0,\n          52.0\n        ],\n        \"semantic_type\": \"\",\n        \"description\": \"\"\n      }\n    }\n  ]\n}"
            }
          },
          "metadata": {},
          "execution_count": 17
        }
      ]
    },
    {
      "cell_type": "markdown",
      "source": [
        "$\\hat{y} = w_1 x_1 + w_2 x_2 + w_3 x_3 + b$"
      ],
      "metadata": {
        "id": "Un60mKybvQRx"
      }
    },
    {
      "cell_type": "markdown",
      "source": [
        "\n",
        "\n",
        "---\n",
        "\n",
        "\n",
        "Matrix multiplication"
      ],
      "metadata": {
        "id": "Jmn1kZ-ExN51"
      }
    },
    {
      "cell_type": "code",
      "source": [
        "X = data[['tmax', 'tmin', 'rain']].iloc[:3].to_numpy()\n",
        "X"
      ],
      "metadata": {
        "colab": {
          "base_uri": "https://localhost:8080/"
        },
        "id": "D64VDq38bCUT",
        "outputId": "dac379c5-db83-435f-d4eb-b4fe02b7b0ca"
      },
      "execution_count": 18,
      "outputs": [
        {
          "output_type": "execute_result",
          "data": {
            "text/plain": [
              "array([[60., 35.,  0.],\n",
              "       [52., 39.,  0.],\n",
              "       [52., 35.,  0.]])"
            ]
          },
          "metadata": {},
          "execution_count": 18
        }
      ]
    },
    {
      "cell_type": "code",
      "source": [
        "X.shape"
      ],
      "metadata": {
        "colab": {
          "base_uri": "https://localhost:8080/"
        },
        "id": "bhteR4r5bCKc",
        "outputId": "a79d4ff6-3939-46bc-dbfc-c254ebaf51e9"
      },
      "execution_count": 19,
      "outputs": [
        {
          "output_type": "execute_result",
          "data": {
            "text/plain": [
              "(3, 3)"
            ]
          },
          "metadata": {},
          "execution_count": 19
        }
      ]
    },
    {
      "cell_type": "code",
      "source": [
        "X_T = X.T\n",
        "X_T"
      ],
      "metadata": {
        "colab": {
          "base_uri": "https://localhost:8080/"
        },
        "id": "tWSBEUeBEKJC",
        "outputId": "d75bd0b5-d674-432b-8021-deb7b5e6aed7"
      },
      "execution_count": 20,
      "outputs": [
        {
          "output_type": "execute_result",
          "data": {
            "text/plain": [
              "array([[60., 52., 52.],\n",
              "       [35., 39., 35.],\n",
              "       [ 0.,  0.,  0.]])"
            ]
          },
          "metadata": {},
          "execution_count": 20
        }
      ]
    },
    {
      "cell_type": "code",
      "source": [
        "w = np.array([0.7, 0.3, 1])\n",
        "w.shape"
      ],
      "metadata": {
        "colab": {
          "base_uri": "https://localhost:8080/"
        },
        "id": "n_UCoM40n6bB",
        "outputId": "ffa32792-1a96-4061-9aec-16db112d5703"
      },
      "execution_count": 21,
      "outputs": [
        {
          "output_type": "execute_result",
          "data": {
            "text/plain": [
              "(3,)"
            ]
          },
          "metadata": {},
          "execution_count": 21
        }
      ]
    },
    {
      "cell_type": "markdown",
      "source": [
        "Reshaping w vector (1D) to W matrix with 3 rows and 1 column.\n",
        "\n",
        "Reshape requires same # of elements in original array and new array."
      ],
      "metadata": {
        "id": "5IuV5_TPpH1p"
      }
    },
    {
      "cell_type": "code",
      "source": [
        "W = w.reshape(3,1)\n",
        "W"
      ],
      "metadata": {
        "colab": {
          "base_uri": "https://localhost:8080/"
        },
        "id": "R4hhuv6ipc64",
        "outputId": "3ee239b6-c83d-4154-df99-2f08a4b0c723"
      },
      "execution_count": 22,
      "outputs": [
        {
          "output_type": "execute_result",
          "data": {
            "text/plain": [
              "array([[0.7],\n",
              "       [0.3],\n",
              "       [1. ]])"
            ]
          },
          "metadata": {},
          "execution_count": 22
        }
      ]
    },
    {
      "cell_type": "code",
      "source": [
        "X @ W"
      ],
      "metadata": {
        "colab": {
          "base_uri": "https://localhost:8080/"
        },
        "id": "aYmUgBGWrMcr",
        "outputId": "db77b062-7139-44f3-aa1b-d79258c48189"
      },
      "execution_count": 23,
      "outputs": [
        {
          "output_type": "execute_result",
          "data": {
            "text/plain": [
              "array([[52.5],\n",
              "       [48.1],\n",
              "       [46.9]])"
            ]
          },
          "metadata": {},
          "execution_count": 23
        }
      ]
    },
    {
      "cell_type": "code",
      "source": [
        "np.dot(X,W)"
      ],
      "metadata": {
        "colab": {
          "base_uri": "https://localhost:8080/"
        },
        "id": "40BTbjnQrMZ_",
        "outputId": "12131b77-c879-4291-e23c-6cad398d1826"
      },
      "execution_count": 24,
      "outputs": [
        {
          "output_type": "execute_result",
          "data": {
            "text/plain": [
              "array([[52.5],\n",
              "       [48.1],\n",
              "       [46.9]])"
            ]
          },
          "metadata": {},
          "execution_count": 24
        }
      ]
    },
    {
      "cell_type": "code",
      "source": [
        "np.dot([2j, 2 + 3j], [2j, 3j])"
      ],
      "metadata": {
        "colab": {
          "base_uri": "https://localhost:8080/"
        },
        "id": "s0dvwH3JrMXv",
        "outputId": "241b2a01-4bc8-48a4-d2e1-8449e9902d39"
      },
      "execution_count": 25,
      "outputs": [
        {
          "output_type": "execute_result",
          "data": {
            "text/plain": [
              "np.complex128(-13+6j)"
            ]
          },
          "metadata": {},
          "execution_count": 25
        }
      ]
    },
    {
      "cell_type": "code",
      "source": [
        "np.dot([2,3], [2,3])"
      ],
      "metadata": {
        "colab": {
          "base_uri": "https://localhost:8080/"
        },
        "id": "b-ooMmPwrMVF",
        "outputId": "fc801f18-3f9a-4569-855c-6a27cb5b6493"
      },
      "execution_count": 26,
      "outputs": [
        {
          "output_type": "execute_result",
          "data": {
            "text/plain": [
              "np.int64(13)"
            ]
          },
          "metadata": {},
          "execution_count": 26
        }
      ]
    },
    {
      "cell_type": "code",
      "source": [
        "np.dot([1j,1j], [1j,1j])"
      ],
      "metadata": {
        "colab": {
          "base_uri": "https://localhost:8080/"
        },
        "id": "9egs4qW_rMSC",
        "outputId": "5d4a5108-50df-4a48-a6af-75ed12355abd"
      },
      "execution_count": 27,
      "outputs": [
        {
          "output_type": "execute_result",
          "data": {
            "text/plain": [
              "np.complex128(-2+0j)"
            ]
          },
          "metadata": {},
          "execution_count": 27
        }
      ]
    },
    {
      "cell_type": "code",
      "source": [
        "b = np.array([10])\n",
        "# b is bias given for example, not calculated\n",
        "\n",
        "Y = X @ W + b\n",
        "Y"
      ],
      "metadata": {
        "colab": {
          "base_uri": "https://localhost:8080/"
        },
        "id": "XN5PIM5SrMOI",
        "outputId": "fdbfb87b-2d2e-4282-c64b-c82b85b9a585"
      },
      "execution_count": 28,
      "outputs": [
        {
          "output_type": "execute_result",
          "data": {
            "text/plain": [
              "array([[62.5],\n",
              "       [58.1],\n",
              "       [56.9]])"
            ]
          },
          "metadata": {},
          "execution_count": 28
        }
      ]
    },
    {
      "cell_type": "markdown",
      "source": [
        "Slope-intercept formula relation\n",
        "\n",
        "$y = mx + b$"
      ],
      "metadata": {
        "id": "r_ve_01R25CV"
      }
    },
    {
      "cell_type": "markdown",
      "source": [
        "\n",
        "\n",
        "---\n",
        "\n",
        "Normal Equation Method vs Gradient Descent\n",
        "\n",
        "$$W = (X^T X)^{-1} X^T Y$$"
      ],
      "metadata": {
        "id": "7gM0B8zh3vLA"
      }
    },
    {
      "cell_type": "code",
      "source": [
        "norm = ((X_T * X) ** -1) * X_T * Y\n",
        "norm"
      ],
      "metadata": {
        "colab": {
          "base_uri": "https://localhost:8080/"
        },
        "id": "bV1hczXsrMKJ",
        "outputId": "7a9ad9bb-916b-4ade-9a2d-cf01b66db376"
      },
      "execution_count": 29,
      "outputs": [
        {
          "output_type": "stream",
          "name": "stderr",
          "text": [
            "/tmp/ipython-input-29-82921689.py:1: RuntimeWarning: divide by zero encountered in reciprocal\n",
            "  norm = ((X_T * X) ** -1) * X_T * Y\n",
            "/tmp/ipython-input-29-82921689.py:1: RuntimeWarning: invalid value encountered in multiply\n",
            "  norm = ((X_T * X) ** -1) * X_T * Y\n"
          ]
        },
        {
          "output_type": "execute_result",
          "data": {
            "text/plain": [
              "array([[1.04166667, 1.78571429,        inf],\n",
              "       [1.11730769, 1.48974359,        inf],\n",
              "       [       nan,        nan,        nan]])"
            ]
          },
          "metadata": {},
          "execution_count": 29
        }
      ]
    },
    {
      "cell_type": "code",
      "source": [],
      "metadata": {
        "id": "cW7hjdgZrME5"
      },
      "execution_count": 29,
      "outputs": []
    },
    {
      "cell_type": "code",
      "source": [],
      "metadata": {
        "id": "H-LLQXk_rL9h"
      },
      "execution_count": 29,
      "outputs": []
    },
    {
      "cell_type": "code",
      "source": [],
      "metadata": {
        "id": "1OI283FbrLyr"
      },
      "execution_count": 29,
      "outputs": []
    }
  ]
}